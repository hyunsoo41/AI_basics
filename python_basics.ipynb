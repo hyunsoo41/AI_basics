{
 "cells": [
  {
   "cell_type": "markdown",
   "id": "c04a3c8f",
   "metadata": {},
   "source": [
    "# 1. 파이썬 기초"
   ]
  },
  {
   "cell_type": "code",
   "execution_count": 1,
   "id": "abd498aa",
   "metadata": {},
   "outputs": [
    {
     "name": "stdout",
     "output_type": "stream",
     "text": [
      "Hello world\n",
      "정수: 3, 03, 003, 0003, 05d\n",
      "실수: 256, 256.1, 256.12\n",
      "문자열: [Hello world]\n"
     ]
    }
   ],
   "source": [
    "print(\"Hello world\")\n",
    "\n",
    "#integer\n",
    "x = 3\n",
    "print(\"정수: %01d, %02d, %03d, %04d, 05d\" %(x,x,x,x))\n",
    "\n",
    "#float\n",
    "x = 256.123\n",
    "print(\"실수: %.0f, %.1f, %.2f\" %(x,x,x))\n",
    "\n",
    "#string\n",
    "x = \"Hello world\"\n",
    "print(\"문자열: [%s]\" %(x))"
   ]
  },
  {
   "cell_type": "markdown",
   "id": "bba7de34",
   "metadata": {},
   "source": [
    "# 반복문, 조건문"
   ]
  },
  {
   "cell_type": "code",
   "execution_count": 3,
   "id": "8b74b3ef",
   "metadata": {},
   "outputs": [
    {
     "name": "stdout",
     "output_type": "stream",
     "text": [
      "Regression은(는) 기계학습 내용입니다.\n",
      "Classification은(는) 기계학습 내용입니다.\n",
      "SVM은(는) 기계학습 내용입니다.\n",
      "Clustering은(는) 기계학습 내용입니다.\n",
      "Demension reduction은(는) 기계학습 내용입니다.\n",
      "%s 은(는) 심층학습 내용입니다.\n",
      "CNN 은(는) convolutional neural network 입니다.\n",
      "%s 은(는) 심층학습 내용입니다.\n",
      "%s 은(는) 심층학습 내용입니다.\n"
     ]
    }
   ],
   "source": [
    "contents = [\"Regression\", \"Classification\", \"SVM\", \"Clustering\", \"Demension reduction\",\n",
    "           \"NN\",\"CNN\", \"GAN\", \"RNN\"]\n",
    "\n",
    "for con in contents:\n",
    "    if con in [\"Regression\", \"Classification\", \"SVM\", \"Clustering\", \"Demension reduction\"]:\n",
    "        print(\"%s은(는) 기계학습 내용입니다.\" %con)\n",
    "    elif con in [\"CNN\"]:\n",
    "        print(\"%s 은(는) convolutional neural network 입니다.\" %con)\n",
    "        \n",
    "    else:\n",
    "        print(\"%s 은(는) 심층학습 내용입니다.\")"
   ]
  },
  {
   "cell_type": "markdown",
   "id": "b8b386b9",
   "metadata": {},
   "source": [
    "# 반복문과 인덱스"
   ]
  },
  {
   "cell_type": "code",
   "execution_count": 5,
   "id": "52207e11",
   "metadata": {},
   "outputs": [
    {
     "name": "stdout",
     "output_type": "stream",
     "text": [
      "[0 9]: Regression\n",
      "[1 9]: Classification\n",
      "[2 9]: SVM\n",
      "[3 9]: Clustering\n",
      "[4 9]: Demension reduction\n",
      "[5 9]: NN\n",
      "[6 9]: CNN\n",
      "[7 9]: GAN\n",
      "[8 9]: RNN\n"
     ]
    }
   ],
   "source": [
    "for(i, con) in enumerate(contents):\n",
    "    print(\"[%d %d]: %s\" %(i, len(contents), con))"
   ]
  },
  {
   "cell_type": "markdown",
   "id": "54102195",
   "metadata": {},
   "source": [
    "# 함수"
   ]
  },
  {
   "cell_type": "code",
   "execution_count": 6,
   "id": "db2261d6",
   "metadata": {},
   "outputs": [
    {
     "name": "stdout",
     "output_type": "stream",
     "text": [
      "10.0 + 20.0 = 30.0\n"
     ]
    }
   ],
   "source": [
    "def sum(a,b):\n",
    "    return a+b\n",
    "\n",
    "x = 10.0\n",
    "y = 20.0\n",
    "print(\"%.1f + %.1f = %.1f\" %(x, y, sum(x,y)))"
   ]
  },
  {
   "cell_type": "markdown",
   "id": "7ab0ce2c",
   "metadata": {},
   "source": [
    "# 리스트"
   ]
  },
  {
   "cell_type": "code",
   "execution_count": 8,
   "id": "f62e28f3",
   "metadata": {},
   "outputs": [
    {
     "name": "stdout",
     "output_type": "stream",
     "text": [
      "[]\n",
      "['a']\n",
      "['a', 123]\n",
      "['a', 123, ['a', 'b']]\n"
     ]
    }
   ],
   "source": [
    "a = []\n",
    "b = [1,2,3]\n",
    "c = [\"Hello\", \",\", \"world\"]\n",
    "d = [1,2,3,\"x\",\"y\",\"z\"]\n",
    "x = []\n",
    "print(x)\n",
    "\n",
    "x.append('a')\n",
    "print(x)\n",
    "\n",
    "x.append(123)\n",
    "print(x)\n",
    "\n",
    "x.append([\"a\",\"b\"])\n",
    "print(x)"
   ]
  },
  {
   "cell_type": "markdown",
   "id": "4b78f71c",
   "metadata": {},
   "source": [
    "# 딕셔너리"
   ]
  },
  {
   "cell_type": "code",
   "execution_count": 10,
   "id": "fee5a224",
   "metadata": {},
   "outputs": [
    {
     "name": "stdout",
     "output_type": "stream",
     "text": [
      "{'name': 'Heekyung', 'town': 'Goyang city', 'job': 'Assistant professor'}\n"
     ]
    }
   ],
   "source": [
    "dic = dict()\n",
    "dic[\"name\"] = \"Heekyung\"\n",
    "dic[\"town\"] = \"Goyang city\"\n",
    "dic[\"job\"] = \"Assistant professor\"\n",
    "print(dic)"
   ]
  },
  {
   "cell_type": "markdown",
   "id": "8f652d8b",
   "metadata": {},
   "source": [
    "# 클래스"
   ]
  },
  {
   "cell_type": "code",
   "execution_count": 11,
   "id": "58db0876",
   "metadata": {},
   "outputs": [
    {
     "name": "stdout",
     "output_type": "stream",
     "text": [
      "Heekyung 학생은 공부합니다.\n",
      "Heekyung 학생은 열심히 공부합니다.\n"
     ]
    }
   ],
   "source": [
    "class Student:\n",
    "    # 생성자\n",
    "    def __init__(self, name):\n",
    "        self.name = name\n",
    "    # 메써드\n",
    "    def study(self, hard=False):\n",
    "        if hard:\n",
    "            print(\"%s 학생은 열심히 공부합니다.\" %self.name)\n",
    "        else:\n",
    "            print(\"%s 학생은 공부합니다.\" %self.name)\n",
    "            \n",
    "s = Student('Heekyung')\n",
    "s.study()\n",
    "s.study(hard=True)"
   ]
  }
 ],
 "metadata": {
  "kernelspec": {
   "display_name": "conda_python3",
   "language": "python",
   "name": "conda_python3"
  },
  "language_info": {
   "codemirror_mode": {
    "name": "ipython",
    "version": 3
   },
   "file_extension": ".py",
   "mimetype": "text/x-python",
   "name": "python",
   "nbconvert_exporter": "python",
   "pygments_lexer": "ipython3",
   "version": "3.6.13"
  }
 },
 "nbformat": 4,
 "nbformat_minor": 5
}
